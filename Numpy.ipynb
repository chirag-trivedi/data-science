{
  "nbformat": 4,
  "nbformat_minor": 0,
  "metadata": {
    "colab": {
      "provenance": []
    },
    "kernelspec": {
      "name": "python3",
      "display_name": "Python 3"
    },
    "language_info": {
      "name": "python"
    }
  },
  "cells": [
    {
      "cell_type": "code",
      "execution_count": null,
      "metadata": {
        "id": "F2fHL62y7UzP"
      },
      "outputs": [],
      "source": [
        "import numpy as np"
      ]
    },
    {
      "cell_type": "code",
      "source": [
        "arr_str = ['Mercedes', 'BMW', 'Audi', 'Ferrari', 'Tesla']"
      ],
      "metadata": {
        "id": "06lHVmH88RXP"
      },
      "execution_count": null,
      "outputs": []
    },
    {
      "cell_type": "markdown",
      "source": [
        "Convert Python List to Numpy Array"
      ],
      "metadata": {
        "id": "mo3GQe3L8Tav"
      }
    },
    {
      "cell_type": "code",
      "source": [
        "np_arr_str = np.array(arr_str)\n",
        "print(np_arr_str)"
      ],
      "metadata": {
        "colab": {
          "base_uri": "https://localhost:8080/"
        },
        "id": "c3EZXl8e8WUM",
        "outputId": "e4d1824b-91d5-4c86-a611-ebaf3ddb4849"
      },
      "execution_count": null,
      "outputs": [
        {
          "output_type": "stream",
          "name": "stdout",
          "text": [
            "['Mercedes' 'BMW' 'Audi' 'Ferrari' 'Tesla']\n"
          ]
        }
      ]
    },
    {
      "cell_type": "code",
      "source": [
        "arr_num = [5, 4, 6, 7, 3]\n",
        "np_arr_num = np.array(arr_num)\n",
        "print(np_arr_num)"
      ],
      "metadata": {
        "colab": {
          "base_uri": "https://localhost:8080/"
        },
        "id": "_YM7jMPn8qCb",
        "outputId": "1b72b0bb-7ab6-4581-db0b-4326ef528772"
      },
      "execution_count": null,
      "outputs": [
        {
          "output_type": "stream",
          "name": "stdout",
          "text": [
            "[5 4 6 7 3]\n"
          ]
        }
      ]
    },
    {
      "cell_type": "code",
      "source": [
        "type(np_arr_num)"
      ],
      "metadata": {
        "colab": {
          "base_uri": "https://localhost:8080/"
        },
        "id": "H0ZQgeW59D9G",
        "outputId": "ab7b9051-518d-413c-b3eb-a817580a0d2c"
      },
      "execution_count": null,
      "outputs": [
        {
          "output_type": "execute_result",
          "data": {
            "text/plain": [
              "numpy.ndarray"
            ]
          },
          "metadata": {},
          "execution_count": 5
        }
      ]
    },
    {
      "cell_type": "code",
      "source": [
        "type(np_arr_str)"
      ],
      "metadata": {
        "colab": {
          "base_uri": "https://localhost:8080/"
        },
        "id": "veecMv-X9Ii7",
        "outputId": "97a21a77-4fc0-4aa8-9aa9-c61790bc966a"
      },
      "execution_count": null,
      "outputs": [
        {
          "output_type": "execute_result",
          "data": {
            "text/plain": [
              "numpy.ndarray"
            ]
          },
          "metadata": {},
          "execution_count": 6
        }
      ]
    },
    {
      "cell_type": "markdown",
      "source": [
        "Numpy Matrix"
      ],
      "metadata": {
        "id": "Xfskxo-V9PRW"
      }
    },
    {
      "cell_type": "code",
      "source": [
        "matrix = np.array([[1,2,1],[4,5,9],[1,8,9]])\n",
        "print(matrix)\n",
        "print(type(matrix))"
      ],
      "metadata": {
        "colab": {
          "base_uri": "https://localhost:8080/"
        },
        "id": "9osVUqEm9QpU",
        "outputId": "91e8311e-04e6-4f55-bc2b-f1881b751622"
      },
      "execution_count": null,
      "outputs": [
        {
          "output_type": "stream",
          "name": "stdout",
          "text": [
            "[[1 2 1]\n",
            " [4 5 9]\n",
            " [1 8 9]]\n",
            "<class 'numpy.ndarray'>\n"
          ]
        }
      ]
    },
    {
      "cell_type": "markdown",
      "source": [
        "Numpy arange"
      ],
      "metadata": {
        "id": "qrhUOagKOoqy"
      }
    },
    {
      "cell_type": "code",
      "source": [
        "arr2 = np.arange(start=0,stop=10,step=2)\n",
        "print(arr2)"
      ],
      "metadata": {
        "colab": {
          "base_uri": "https://localhost:8080/"
        },
        "id": "b32w6hnEOqDJ",
        "outputId": "cdb80925-0115-437c-9b3b-3e5199d1ee2e"
      },
      "execution_count": null,
      "outputs": [
        {
          "output_type": "stream",
          "name": "stdout",
          "text": [
            "[0 2 4 6 8]\n"
          ]
        }
      ]
    },
    {
      "cell_type": "markdown",
      "source": [
        "linspace"
      ],
      "metadata": {
        "id": "pl_-ilZ7O-Uf"
      }
    },
    {
      "cell_type": "code",
      "source": [
        "matrix2 = np.linspace(0,10)\n",
        "print(matrix2)"
      ],
      "metadata": {
        "colab": {
          "base_uri": "https://localhost:8080/"
        },
        "id": "kNdihUeGO9SN",
        "outputId": "dbfa2870-0273-452b-98f8-01f4f9dd8913"
      },
      "execution_count": null,
      "outputs": [
        {
          "output_type": "stream",
          "name": "stdout",
          "text": [
            "[ 0.          0.20408163  0.40816327  0.6122449   0.81632653  1.02040816\n",
            "  1.2244898   1.42857143  1.63265306  1.83673469  2.04081633  2.24489796\n",
            "  2.44897959  2.65306122  2.85714286  3.06122449  3.26530612  3.46938776\n",
            "  3.67346939  3.87755102  4.08163265  4.28571429  4.48979592  4.69387755\n",
            "  4.89795918  5.10204082  5.30612245  5.51020408  5.71428571  5.91836735\n",
            "  6.12244898  6.32653061  6.53061224  6.73469388  6.93877551  7.14285714\n",
            "  7.34693878  7.55102041  7.75510204  7.95918367  8.16326531  8.36734694\n",
            "  8.57142857  8.7755102   8.97959184  9.18367347  9.3877551   9.59183673\n",
            "  9.79591837 10.        ]\n"
          ]
        }
      ]
    },
    {
      "cell_type": "markdown",
      "source": [
        "ones"
      ],
      "metadata": {
        "id": "dHHCcaW7PNr7"
      }
    },
    {
      "cell_type": "code",
      "source": [
        "np.ones(shape=(2,3))"
      ],
      "metadata": {
        "colab": {
          "base_uri": "https://localhost:8080/"
        },
        "id": "8sMfnkOCPOmb",
        "outputId": "ebca828a-cbb8-4710-a58f-71c8b7400034"
      },
      "execution_count": null,
      "outputs": [
        {
          "output_type": "execute_result",
          "data": {
            "text/plain": [
              "array([[1., 1., 1.],\n",
              "       [1., 1., 1.]])"
            ]
          },
          "metadata": {},
          "execution_count": 10
        }
      ]
    },
    {
      "cell_type": "markdown",
      "source": [
        "zeros"
      ],
      "metadata": {
        "id": "teq41noZwWIW"
      }
    },
    {
      "cell_type": "code",
      "source": [
        "np.zeros(shape=(2,3))"
      ],
      "metadata": {
        "colab": {
          "base_uri": "https://localhost:8080/"
        },
        "id": "yYA4U3CswXFE",
        "outputId": "061ca282-4f10-44ff-f156-8122eedb1a38"
      },
      "execution_count": null,
      "outputs": [
        {
          "output_type": "execute_result",
          "data": {
            "text/plain": [
              "array([[0., 0., 0.],\n",
              "       [0., 0., 0.]])"
            ]
          },
          "metadata": {},
          "execution_count": 11
        }
      ]
    },
    {
      "cell_type": "markdown",
      "source": [
        "eye"
      ],
      "metadata": {
        "id": "cyrq4QEqwhFM"
      }
    },
    {
      "cell_type": "code",
      "source": [
        "np.eye(N=3)"
      ],
      "metadata": {
        "colab": {
          "base_uri": "https://localhost:8080/"
        },
        "id": "5jmyjS4OwhvE",
        "outputId": "9e42f48f-d067-4ec8-dd2e-12309d450b49"
      },
      "execution_count": null,
      "outputs": [
        {
          "output_type": "execute_result",
          "data": {
            "text/plain": [
              "array([[1., 0., 0.],\n",
              "       [0., 1., 0.],\n",
              "       [0., 0., 1.]])"
            ]
          },
          "metadata": {},
          "execution_count": 12
        }
      ]
    },
    {
      "cell_type": "markdown",
      "source": [
        "Reshape"
      ],
      "metadata": {
        "id": "jYGdb6dQhLEJ"
      }
    },
    {
      "cell_type": "code",
      "source": [
        "vec = np.arange(0,10)\n",
        "print(vec)"
      ],
      "metadata": {
        "colab": {
          "base_uri": "https://localhost:8080/"
        },
        "id": "sjN8rjIyhL_3",
        "outputId": "1eaa5dae-c5e7-4088-f973-3486c48a2a55"
      },
      "execution_count": null,
      "outputs": [
        {
          "output_type": "stream",
          "name": "stdout",
          "text": [
            "[0 1 2 3 4 5 6 7 8 9]\n"
          ]
        }
      ]
    },
    {
      "cell_type": "code",
      "source": [
        "vec.reshape((2,5))"
      ],
      "metadata": {
        "colab": {
          "base_uri": "https://localhost:8080/"
        },
        "id": "0aBPf9r8hQqg",
        "outputId": "c69ddcc4-47ac-4099-b7c3-f3dc9af375a0"
      },
      "execution_count": null,
      "outputs": [
        {
          "output_type": "execute_result",
          "data": {
            "text/plain": [
              "array([[0, 1, 2, 3, 4],\n",
              "       [5, 6, 7, 8, 9]])"
            ]
          },
          "metadata": {},
          "execution_count": 14
        }
      ]
    },
    {
      "cell_type": "markdown",
      "source": [
        "Arithmetic Operations"
      ],
      "metadata": {
        "id": "iRIWXB1KiXGL"
      }
    },
    {
      "cell_type": "code",
      "source": [
        "arr1 = np.arange(1,6)\n",
        "arr2 = np.arange(6,11)\n",
        "print(arr1)\n",
        "print(arr2)\n",
        "print(arr1 + arr2)\n",
        "print(1/arr1)\n",
        "print(arr1**2)\n"
      ],
      "metadata": {
        "colab": {
          "base_uri": "https://localhost:8080/"
        },
        "id": "Jg2hKkHsiY-Z",
        "outputId": "cadb3809-58d0-479c-fa55-3375fc04178f"
      },
      "execution_count": null,
      "outputs": [
        {
          "output_type": "stream",
          "name": "stdout",
          "text": [
            "[1 2 3 4 5]\n",
            "[ 6  7  8  9 10]\n",
            "[ 7  9 11 13 15]\n",
            "[1.         0.5        0.33333333 0.25       0.2       ]\n",
            "[ 1  4  9 16 25]\n"
          ]
        }
      ]
    },
    {
      "cell_type": "markdown",
      "source": [
        "Matrix Operations"
      ],
      "metadata": {
        "id": "rH5BuFTJjMr7"
      }
    },
    {
      "cell_type": "code",
      "source": [
        "mat1 = np.arange(1,5).reshape(2,2)\n",
        "mat2 = np.arange(1,5).reshape(2,2)\n",
        "print(mat1)\n",
        "print(mat2)\n",
        "print(mat1 + mat2)\n",
        "print(mat1 * mat2 )\n",
        "print(mat1 @ mat2)"
      ],
      "metadata": {
        "colab": {
          "base_uri": "https://localhost:8080/"
        },
        "id": "SdNNc5ItjO9_",
        "outputId": "78e5afcb-45a6-40a1-b53b-6609361351b6"
      },
      "execution_count": null,
      "outputs": [
        {
          "output_type": "stream",
          "name": "stdout",
          "text": [
            "[[1 2]\n",
            " [3 4]]\n",
            "[[1 2]\n",
            " [3 4]]\n",
            "[[2 4]\n",
            " [6 8]]\n",
            "[[ 1  4]\n",
            " [ 9 16]]\n",
            "[[ 7 10]\n",
            " [15 22]]\n"
          ]
        }
      ]
    },
    {
      "cell_type": "markdown",
      "source": [
        "Transpose"
      ],
      "metadata": {
        "id": "yo3mku0Akbzu"
      }
    },
    {
      "cell_type": "code",
      "source": [
        "np.transpose(mat1)"
      ],
      "metadata": {
        "colab": {
          "base_uri": "https://localhost:8080/"
        },
        "id": "ivFcOh35kdhn",
        "outputId": "2c496dd2-3327-48be-a68d-26b61708a714"
      },
      "execution_count": null,
      "outputs": [
        {
          "output_type": "execute_result",
          "data": {
            "text/plain": [
              "array([[1, 3],\n",
              "       [2, 4]])"
            ]
          },
          "metadata": {},
          "execution_count": 17
        }
      ]
    },
    {
      "cell_type": "markdown",
      "source": [
        "Random"
      ],
      "metadata": {
        "id": "hx4GrBzBmvGX"
      }
    },
    {
      "cell_type": "code",
      "source": [
        "np.random.rand(5,5)"
      ],
      "metadata": {
        "colab": {
          "base_uri": "https://localhost:8080/"
        },
        "id": "yQCB-tFBmwJi",
        "outputId": "77575d1c-b5cc-4518-df75-fbe7285024d7"
      },
      "execution_count": null,
      "outputs": [
        {
          "output_type": "execute_result",
          "data": {
            "text/plain": [
              "array([[0.24949724, 0.63728537, 0.96972789, 0.62130695, 0.42962562],\n",
              "       [0.39861158, 0.32153585, 0.18195702, 0.64052144, 0.11469356],\n",
              "       [0.01540705, 0.42012362, 0.46692306, 0.57492109, 0.79242937],\n",
              "       [0.84455385, 0.42332858, 0.45751176, 0.20767198, 0.68600815],\n",
              "       [0.80748158, 0.28974379, 0.91649767, 0.41882737, 0.95959371]])"
            ]
          },
          "metadata": {},
          "execution_count": 18
        }
      ]
    },
    {
      "cell_type": "code",
      "source": [
        "np.random.randn(5,5)"
      ],
      "metadata": {
        "colab": {
          "base_uri": "https://localhost:8080/"
        },
        "id": "sLeXvU6inE7s",
        "outputId": "7b824ddb-3b3b-4921-fe4c-4924fe53cd21"
      },
      "execution_count": null,
      "outputs": [
        {
          "output_type": "execute_result",
          "data": {
            "text/plain": [
              "array([[ 0.06085807,  0.00403371,  0.39107475,  1.24513613, -0.45869571],\n",
              "       [-1.19263585,  1.52831876, -1.35633789,  0.2496621 , -1.40859376],\n",
              "       [-1.90895262,  1.30128149,  0.24182205,  0.04302932, -0.49992133],\n",
              "       [-0.03534111, -0.02286696,  0.36724959, -1.96130824, -0.07589517],\n",
              "       [-0.34901222,  2.05599468, -0.46691769, -0.30491604,  1.52416013]])"
            ]
          },
          "metadata": {},
          "execution_count": 19
        }
      ]
    },
    {
      "cell_type": "code",
      "source": [
        "np.random.randint(1,10,10)"
      ],
      "metadata": {
        "colab": {
          "base_uri": "https://localhost:8080/"
        },
        "id": "awvpN7gInkuV",
        "outputId": "d45585de-3e05-4ecf-b520-c56921c6f18e"
      },
      "execution_count": null,
      "outputs": [
        {
          "output_type": "execute_result",
          "data": {
            "text/plain": [
              "array([7, 6, 6, 7, 3, 5, 4, 8, 8, 3])"
            ]
          },
          "metadata": {},
          "execution_count": 20
        }
      ]
    },
    {
      "cell_type": "code",
      "source": [
        "np.random.randint(1,10,(2,3))"
      ],
      "metadata": {
        "colab": {
          "base_uri": "https://localhost:8080/"
        },
        "id": "4OahZfUtnxmq",
        "outputId": "5f89eaa2-422b-43dd-f52a-80b2b8676f98"
      },
      "execution_count": null,
      "outputs": [
        {
          "output_type": "execute_result",
          "data": {
            "text/plain": [
              "array([[2, 3, 2],\n",
              "       [4, 4, 1]])"
            ]
          },
          "metadata": {},
          "execution_count": 21
        }
      ]
    },
    {
      "cell_type": "markdown",
      "source": [
        "Accessing Numpy Array"
      ],
      "metadata": {
        "id": "XwbtJrzbdI_b"
      }
    },
    {
      "cell_type": "code",
      "source": [
        "rand_arr = np.random.randn(10)\n",
        "print(rand_arr)"
      ],
      "metadata": {
        "colab": {
          "base_uri": "https://localhost:8080/"
        },
        "id": "3vC3DuENdLU8",
        "outputId": "6c55eeed-0fd0-4109-df7e-b5effa90ee59"
      },
      "execution_count": null,
      "outputs": [
        {
          "output_type": "stream",
          "name": "stdout",
          "text": [
            "[ 1.46882385 -0.90778468 -0.26077512  1.30999438  1.21405827 -0.30174181\n",
            " -0.82424943 -1.48652503  0.16988453  0.71143142]\n"
          ]
        }
      ]
    },
    {
      "cell_type": "code",
      "source": [
        "rand_arr[0:2]"
      ],
      "metadata": {
        "colab": {
          "base_uri": "https://localhost:8080/"
        },
        "id": "zBzhXee9dcFT",
        "outputId": "e18a3ba1-3b25-4d32-8f37-fcd130a530c2"
      },
      "execution_count": null,
      "outputs": [
        {
          "output_type": "execute_result",
          "data": {
            "text/plain": [
              "array([ 1.46882385, -0.90778468])"
            ]
          },
          "metadata": {},
          "execution_count": 23
        }
      ]
    },
    {
      "cell_type": "code",
      "source": [
        "rand_arr[rand_arr>0]"
      ],
      "metadata": {
        "colab": {
          "base_uri": "https://localhost:8080/"
        },
        "id": "NRBg6U0fdo-F",
        "outputId": "b1115734-4423-4811-d43d-014b541f86ef"
      },
      "execution_count": null,
      "outputs": [
        {
          "output_type": "execute_result",
          "data": {
            "text/plain": [
              "array([1.46882385, 1.30999438, 1.21405827, 0.16988453, 0.71143142])"
            ]
          },
          "metadata": {},
          "execution_count": 24
        }
      ]
    },
    {
      "cell_type": "code",
      "source": [
        "rand_mat = np.random.randn(5,5)\n",
        "print(rand_mat)"
      ],
      "metadata": {
        "colab": {
          "base_uri": "https://localhost:8080/"
        },
        "id": "Dx2RQLe3d9Sa",
        "outputId": "88478474-4af7-4ae7-a88e-4fb7e8ee7429"
      },
      "execution_count": null,
      "outputs": [
        {
          "output_type": "stream",
          "name": "stdout",
          "text": [
            "[[-0.29633388  0.0761259   1.0362237   1.23194634 -0.9207978 ]\n",
            " [ 0.17846001 -0.70715456  0.19271312 -0.04634528 -0.28313952]\n",
            " [ 2.48944907 -0.9261824  -1.01525041  0.4530721   0.09425384]\n",
            " [ 0.59156008  0.10975031  1.18661823 -0.31133899 -0.71362874]\n",
            " [-0.93714026  0.04442783 -0.52921805 -0.26813544 -1.28853504]]\n"
          ]
        }
      ]
    },
    {
      "cell_type": "code",
      "source": [
        "rand_mat[0:2,0:2]"
      ],
      "metadata": {
        "colab": {
          "base_uri": "https://localhost:8080/"
        },
        "id": "yi5B5_H1eOSb",
        "outputId": "bc4c28d8-d193-4de2-9ccc-22ac2bda2799"
      },
      "execution_count": null,
      "outputs": [
        {
          "output_type": "execute_result",
          "data": {
            "text/plain": [
              "array([[-0.29633388,  0.0761259 ],\n",
              "       [ 0.17846001, -0.70715456]])"
            ]
          },
          "metadata": {},
          "execution_count": 26
        }
      ]
    },
    {
      "cell_type": "markdown",
      "source": [
        "Modify array and matrix entries"
      ],
      "metadata": {
        "id": "boR2zSciephd"
      }
    },
    {
      "cell_type": "code",
      "source": [
        "rand_arr[3:5] = 5\n",
        "print(rand_arr)"
      ],
      "metadata": {
        "colab": {
          "base_uri": "https://localhost:8080/"
        },
        "id": "m5fWsz8xepHO",
        "outputId": "00069bbb-def6-45aa-8ddb-cbdfbbd41223"
      },
      "execution_count": null,
      "outputs": [
        {
          "output_type": "stream",
          "name": "stdout",
          "text": [
            "[ 1.46882385 -0.90778468 -0.26077512  5.          5.         -0.30174181\n",
            " -0.82424943 -1.48652503  0.16988453  0.71143142]\n"
          ]
        }
      ]
    },
    {
      "cell_type": "code",
      "source": [
        "rand_arr[rand_arr>0] = 1\n",
        "print(rand_arr)"
      ],
      "metadata": {
        "colab": {
          "base_uri": "https://localhost:8080/"
        },
        "id": "m69ps3G5exBL",
        "outputId": "6a3c3c6e-4243-4d30-e806-8a211bb9e4b5"
      },
      "execution_count": null,
      "outputs": [
        {
          "output_type": "stream",
          "name": "stdout",
          "text": [
            "[ 1.         -0.90778468 -0.26077512  1.          1.         -0.30174181\n",
            " -0.82424943 -1.48652503  1.          1.        ]\n"
          ]
        }
      ]
    },
    {
      "cell_type": "code",
      "source": [
        "rand_mat[1:3,1:3] = 0\n",
        "print(rand_mat)"
      ],
      "metadata": {
        "colab": {
          "base_uri": "https://localhost:8080/"
        },
        "id": "1yGTDLtEfBwM",
        "outputId": "2f5759be-996b-404b-a37a-44b10396bc9b"
      },
      "execution_count": null,
      "outputs": [
        {
          "output_type": "stream",
          "name": "stdout",
          "text": [
            "[[-0.29633388  0.0761259   1.0362237   1.23194634 -0.9207978 ]\n",
            " [ 0.17846001  0.          0.         -0.04634528 -0.28313952]\n",
            " [ 2.48944907  0.          0.          0.4530721   0.09425384]\n",
            " [ 0.59156008  0.10975031  1.18661823 -0.31133899 -0.71362874]\n",
            " [-0.93714026  0.04442783 -0.52921805 -0.26813544 -1.28853504]]\n"
          ]
        }
      ]
    },
    {
      "cell_type": "code",
      "source": [
        "sub_mat = rand_mat[1:3,1:3]\n",
        "print(sub_mat)"
      ],
      "metadata": {
        "colab": {
          "base_uri": "https://localhost:8080/"
        },
        "id": "mj2jbYCPfoor",
        "outputId": "4a46d140-3d62-46e6-81bc-c0dbf1de6823"
      },
      "execution_count": null,
      "outputs": [
        {
          "output_type": "stream",
          "name": "stdout",
          "text": [
            "[[0. 0.]\n",
            " [0. 0.]]\n"
          ]
        }
      ]
    },
    {
      "cell_type": "code",
      "source": [
        "sub_mat[:] = 5\n",
        "print(sub_mat)"
      ],
      "metadata": {
        "colab": {
          "base_uri": "https://localhost:8080/"
        },
        "id": "ZiWHDXQ_frgc",
        "outputId": "91e0372f-c0d2-4ea8-a657-d7a41445014b"
      },
      "execution_count": null,
      "outputs": [
        {
          "output_type": "stream",
          "name": "stdout",
          "text": [
            "[[5. 5.]\n",
            " [5. 5.]]\n"
          ]
        }
      ]
    },
    {
      "cell_type": "code",
      "source": [
        "print(rand_mat)"
      ],
      "metadata": {
        "colab": {
          "base_uri": "https://localhost:8080/"
        },
        "id": "D7dP6nedfyM1",
        "outputId": "0ed10a56-e6ee-4d58-ea03-2ec571a05112"
      },
      "execution_count": null,
      "outputs": [
        {
          "output_type": "stream",
          "name": "stdout",
          "text": [
            "[[-0.29633388  0.0761259   1.0362237   1.23194634 -0.9207978 ]\n",
            " [ 0.17846001  5.          5.         -0.04634528 -0.28313952]\n",
            " [ 2.48944907  5.          5.          0.4530721   0.09425384]\n",
            " [ 0.59156008  0.10975031  1.18661823 -0.31133899 -0.71362874]\n",
            " [-0.93714026  0.04442783 -0.52921805 -0.26813544 -1.28853504]]\n"
          ]
        }
      ]
    },
    {
      "cell_type": "code",
      "source": [
        "sub_mat1 = rand_mat[1:3,1:3].copy()\n",
        "print(sub_mat1)"
      ],
      "metadata": {
        "colab": {
          "base_uri": "https://localhost:8080/"
        },
        "id": "tlgNqN0Kf3xB",
        "outputId": "6c4ef890-560c-4cf3-b804-8b84a7e06f4b"
      },
      "execution_count": null,
      "outputs": [
        {
          "output_type": "stream",
          "name": "stdout",
          "text": [
            "[[5. 5.]\n",
            " [5. 5.]]\n"
          ]
        }
      ]
    },
    {
      "cell_type": "code",
      "source": [
        "sub_mat1[:] = 0\n",
        "print(sub_mat1)"
      ],
      "metadata": {
        "colab": {
          "base_uri": "https://localhost:8080/"
        },
        "id": "NJTUJMRvf9BM",
        "outputId": "8b830d4d-6ed9-4a87-99f5-8b76e74ac672"
      },
      "execution_count": null,
      "outputs": [
        {
          "output_type": "stream",
          "name": "stdout",
          "text": [
            "[[0. 0.]\n",
            " [0. 0.]]\n"
          ]
        }
      ]
    },
    {
      "cell_type": "code",
      "source": [
        "print(rand_mat)"
      ],
      "metadata": {
        "colab": {
          "base_uri": "https://localhost:8080/"
        },
        "id": "a13vC8Iof_I9",
        "outputId": "164a3893-c6ce-461b-a534-8efceb29b4d5"
      },
      "execution_count": null,
      "outputs": [
        {
          "output_type": "stream",
          "name": "stdout",
          "text": [
            "[[-0.29633388  0.0761259   1.0362237   1.23194634 -0.9207978 ]\n",
            " [ 0.17846001  5.          5.         -0.04634528 -0.28313952]\n",
            " [ 2.48944907  5.          5.          0.4530721   0.09425384]\n",
            " [ 0.59156008  0.10975031  1.18661823 -0.31133899 -0.71362874]\n",
            " [-0.93714026  0.04442783 -0.52921805 -0.26813544 -1.28853504]]\n"
          ]
        }
      ]
    },
    {
      "cell_type": "markdown",
      "source": [
        "Saving and Loading"
      ],
      "metadata": {
        "id": "mKBkLcGxgNe3"
      }
    },
    {
      "cell_type": "code",
      "source": [
        "from google.colab import drive\n",
        "drive.mount('/content/drive')"
      ],
      "metadata": {
        "colab": {
          "base_uri": "https://localhost:8080/"
        },
        "id": "4d82D9EogP79",
        "outputId": "c7af581b-d677-47bb-ba3b-60d63c987769"
      },
      "execution_count": null,
      "outputs": [
        {
          "output_type": "stream",
          "name": "stdout",
          "text": [
            "Mounted at /content/drive\n"
          ]
        }
      ]
    },
    {
      "cell_type": "code",
      "source": [
        "randint_mat = np.random.randint(1,10,10).reshape(2,5)\n",
        "print(randint_mat)\n",
        "randint_mat2 = np.random.randint(1,10,10).reshape(2,5)\n",
        "print(randint_mat2)"
      ],
      "metadata": {
        "colab": {
          "base_uri": "https://localhost:8080/"
        },
        "id": "YDnCuvc5gytI",
        "outputId": "80dbb391-b61f-4958-e686-9912bef8d76f"
      },
      "execution_count": null,
      "outputs": [
        {
          "output_type": "stream",
          "name": "stdout",
          "text": [
            "[[5 8 7 6 4]\n",
            " [7 7 7 4 9]]\n",
            "[[6 2 8 9 2]\n",
            " [2 2 2 5 3]]\n"
          ]
        }
      ]
    },
    {
      "cell_type": "code",
      "source": [
        "np.save('/content/drive/MyDrive/numpy_mats',randint_mat)"
      ],
      "metadata": {
        "id": "NyYaHOnqg7v8"
      },
      "execution_count": null,
      "outputs": []
    },
    {
      "cell_type": "code",
      "source": [
        "np.savez('/content/drive/MyDrive/numpy_mats_all',mat1=randint_mat,mat2=randint_mat2)"
      ],
      "metadata": {
        "id": "Uuj3w0Pyhm5T"
      },
      "execution_count": null,
      "outputs": []
    },
    {
      "cell_type": "code",
      "source": [
        "loaded_arr = np.load('/content/drive/MyDrive/numpy_mats.npy')\n",
        "print(loaded_arr)"
      ],
      "metadata": {
        "colab": {
          "base_uri": "https://localhost:8080/"
        },
        "id": "2NXRfOHUh0U7",
        "outputId": "cab7009e-fa1a-4307-e008-7aaa5130215d"
      },
      "execution_count": null,
      "outputs": [
        {
          "output_type": "stream",
          "name": "stdout",
          "text": [
            "[[5 8 7 6 4]\n",
            " [7 7 7 4 9]]\n"
          ]
        }
      ]
    },
    {
      "cell_type": "code",
      "source": [
        "loaded_multi = np.load('/content/drive/MyDrive/numpy_mats_all.npz')\n",
        "print(loaded_multi['mat1'])\n",
        "print(loaded_multi['mat2'])"
      ],
      "metadata": {
        "colab": {
          "base_uri": "https://localhost:8080/"
        },
        "id": "sju7HOOBh3a9",
        "outputId": "d59d42b9-0d3e-4e99-e26f-7a2b94ea56f9"
      },
      "execution_count": null,
      "outputs": [
        {
          "output_type": "stream",
          "name": "stdout",
          "text": [
            "[[5 8 7 6 4]\n",
            " [7 7 7 4 9]]\n",
            "[[6 2 8 9 2]\n",
            " [2 2 2 5 3]]\n"
          ]
        }
      ]
    }
  ]
}